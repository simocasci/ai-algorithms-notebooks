{
 "cells": [
  {
   "cell_type": "code",
   "execution_count": 1,
   "id": "462a1ec7",
   "metadata": {},
   "outputs": [],
   "source": [
    "import gym\n",
    "import numpy as np\n",
    "import random\n",
    "import math"
   ]
  },
  {
   "cell_type": "code",
   "execution_count": 2,
   "id": "4b7f71e7",
   "metadata": {},
   "outputs": [],
   "source": [
    "env = gym.make('CartPole-v0')"
   ]
  },
  {
   "cell_type": "code",
   "execution_count": 3,
   "id": "6ceb741b",
   "metadata": {},
   "outputs": [],
   "source": [
    "INPUTS = env.observation_space.shape[0]"
   ]
  },
  {
   "cell_type": "code",
   "execution_count": 4,
   "id": "74a35f50",
   "metadata": {},
   "outputs": [],
   "source": [
    "def random_range(a, b):\n",
    "    return random.random() * (b-a) + a"
   ]
  },
  {
   "cell_type": "code",
   "execution_count": 5,
   "id": "9f3d5ae9",
   "metadata": {},
   "outputs": [],
   "source": [
    "def predict(weights, bias, state):\n",
    "    # wx + b\n",
    "    assert(len(weights)) == len(state)\n",
    "    dot_product = 0\n",
    "    for i in range(len(weights)):\n",
    "        dot_product += weights[i] * state[i]\n",
    "    return dot_product + bias\n",
    "\n",
    "def take_action(params, state):\n",
    "    prediction = predict(params[0], params[1], state)\n",
    "    if prediction >= 0:\n",
    "        return 1\n",
    "    else:\n",
    "        return 0"
   ]
  },
  {
   "cell_type": "code",
   "execution_count": 6,
   "id": "34bba3fc",
   "metadata": {},
   "outputs": [],
   "source": [
    "def generate_params(n):\n",
    "    # random params between -1 and 1\n",
    "    return [random_range(-1, 1) for _ in range(n)]"
   ]
  },
  {
   "cell_type": "code",
   "execution_count": 7,
   "id": "2fe2c7cf",
   "metadata": {},
   "outputs": [],
   "source": [
    "def generate_population_params(inputs, population_length):\n",
    "    return [(generate_params(inputs), generate_params(1)[0]) for _ in range(population_length)]"
   ]
  },
  {
   "cell_type": "code",
   "execution_count": 8,
   "id": "4802534c",
   "metadata": {},
   "outputs": [],
   "source": [
    "def mutate(params):\n",
    "    weights, bias = params[0], params[1]\n",
    "    new_weights, new_bias = [], 0\n",
    "    for i in range(len(weights)):\n",
    "        new_weights.append(weights[i] + random_range(-1, 1))\n",
    "    new_bias = bias + random_range(-.20, .20)\n",
    "    return (new_weights, new_bias)"
   ]
  },
  {
   "cell_type": "code",
   "execution_count": 9,
   "id": "ee51ef16",
   "metadata": {},
   "outputs": [],
   "source": [
    "def crossover(params1, params2):\n",
    "    weights1, bias1 = params1[0], params1[1]\n",
    "    weights2, bias2 = params2[0], params2[1]\n",
    "    assert(len(weights1) == len(weights2))\n",
    "    l = len(weights1) // 2\n",
    "    new_weights, new_bias = weights1[:l] + weights2[l:], (bias1 + bias2) / 2\n",
    "    return new_weights, new_bias"
   ]
  },
  {
   "cell_type": "code",
   "execution_count": 10,
   "id": "4a2cf3fa",
   "metadata": {},
   "outputs": [
    {
     "name": "stdout",
     "output_type": "stream",
     "text": [
      "episode: 1, best score: 200.0\n",
      "episode: 2, best score: 200.0\n",
      "episode: 3, best score: 200.0\n",
      "episode: 4, best score: 200.0\n",
      "episode: 5, best score: 200.0\n",
      "episode: 6, best score: 200.0\n",
      "episode: 7, best score: 200.0\n",
      "episode: 8, best score: 200.0\n",
      "episode: 9, best score: 135.0\n",
      "episode: 10, best score: 200.0\n",
      "episode: 11, best score: 200.0\n",
      "episode: 12, best score: 200.0\n",
      "episode: 13, best score: 200.0\n",
      "episode: 14, best score: 200.0\n",
      "episode: 15, best score: 200.0\n",
      "episode: 16, best score: 200.0\n",
      "episode: 17, best score: 200.0\n",
      "episode: 18, best score: 200.0\n",
      "episode: 19, best score: 200.0\n"
     ]
    }
   ],
   "source": [
    "POPULATION_SIZE = 250\n",
    "MUTATION_RATE = .6\n",
    "population = generate_population_params(INPUTS, POPULATION_SIZE)\n",
    "best_per_episode = []\n",
    "game_solved = False\n",
    "episode = 0\n",
    "while not game_solved:\n",
    "    episode += 1\n",
    "    fitnesses = []\n",
    "    for i in range(len(population)):\n",
    "        obs = env.reset()\n",
    "        score = 0\n",
    "        done = False\n",
    "        while not done:\n",
    "            obs = obs.tolist()\n",
    "            action = take_action(population[i], obs)\n",
    "            obs, reward, done, info = env.step(action)\n",
    "            score += reward\n",
    "        fitnesses.append(score)\n",
    "    fitnesses_ = fitnesses[:]\n",
    "    best_scores = [max(fitnesses_)]\n",
    "    fitnesses_.remove(max(fitnesses_))\n",
    "    best_scores.append(max(fitnesses_))\n",
    "    new_population = []\n",
    "    parent1 = population[fitnesses.index(best_scores[0])]\n",
    "    parent2 = population[fitnesses.index(best_scores[1])]\n",
    "    new_population.append(parent1)\n",
    "    new_population.append(parent2)\n",
    "    new_population.append(crossover(parent1, parent2))\n",
    "    while len(new_population) < POPULATION_SIZE:\n",
    "        if random.random() < MUTATION_RATE:\n",
    "            new_population.append(mutate(crossover(parent1, parent2)))\n",
    "            new_population.append(mutate(parent1))\n",
    "            new_population.append(mutate(parent2))\n",
    "        else:\n",
    "            new_population.append(crossover(parent1, parent2))\n",
    "    print(f'episode: {episode}, best score: {best_scores[0]}')\n",
    "    best_per_episode.append(best_scores[0])\n",
    "    if len(best_per_episode) >= 10:\n",
    "        if np.mean(best_per_episode[-10:]) == 200:\n",
    "            game_solved = True"
   ]
  }
 ],
 "metadata": {
  "kernelspec": {
   "display_name": "Python 3 (ipykernel)",
   "language": "python",
   "name": "python3"
  },
  "language_info": {
   "codemirror_mode": {
    "name": "ipython",
    "version": 3
   },
   "file_extension": ".py",
   "mimetype": "text/x-python",
   "name": "python",
   "nbconvert_exporter": "python",
   "pygments_lexer": "ipython3",
   "version": "3.9.6"
  }
 },
 "nbformat": 4,
 "nbformat_minor": 5
}
